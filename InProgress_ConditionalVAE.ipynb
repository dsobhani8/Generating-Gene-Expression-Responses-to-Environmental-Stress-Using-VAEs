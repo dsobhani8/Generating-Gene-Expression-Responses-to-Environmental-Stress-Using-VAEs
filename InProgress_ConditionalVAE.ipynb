{
  "cells": [
    {
      "cell_type": "markdown",
      "metadata": {
        "id": "view-in-github",
        "colab_type": "text"
      },
      "source": [
        "<a href=\"https://colab.research.google.com/github/dsobhani8/Generating-Gene-Expression-Responses-to-Environmental-Stress-Using-VAEs/blob/main/InProgress_ConditionalVAE.ipynb\" target=\"_parent\"><img src=\"https://colab.research.google.com/assets/colab-badge.svg\" alt=\"Open In Colab\"/></a>"
      ]
    },
    {
      "cell_type": "code",
      "execution_count": 1,
      "metadata": {
        "colab": {
          "base_uri": "https://localhost:8080/"
        },
        "id": "spFHLcGMSbRU",
        "outputId": "c04b5e9a-7183-4cb8-b88b-9f313899cd07"
      },
      "outputs": [
        {
          "output_type": "stream",
          "name": "stdout",
          "text": [
            "fatal: destination path 'Generating-Gene-Expression-Responses-to-Environmental-Stress-Using-VAEs' already exists and is not an empty directory.\n"
          ]
        }
      ],
      "source": [
        "!git clone https://github.com/dsobhani8/Generating-Gene-Expression-Responses-to-Environmental-Stress-Using-VAEs.git"
      ]
    },
    {
      "cell_type": "code",
      "execution_count": 2,
      "metadata": {
        "id": "BNJBZgaBP1K_"
      },
      "outputs": [],
      "source": [
        "import torch\n",
        "import torch.nn as nn\n",
        "import torch.optim as optim\n",
        "from torch.utils.data import DataLoader, TensorDataset\n",
        "import pandas as pd\n",
        "import numpy as np\n",
        "from sklearn.preprocessing import StandardScaler, MultiLabelBinarizer, LabelEncoder\n",
        "import torch.nn.functional as F\n",
        "from sklearn.model_selection import train_test_split\n",
        "from sklearn.metrics import mean_squared_error\n",
        "import zipfile\n",
        "from scipy.stats import pearsonr, spearmanr\n",
        "import matplotlib.pyplot as plt"
      ]
    },
    {
      "cell_type": "code",
      "execution_count": 3,
      "metadata": {
        "id": "iq6O53Oxdgal"
      },
      "outputs": [],
      "source": [
        "device = torch.device(\"cuda\" if torch.cuda.is_available() else \"cpu\")\n"
      ]
    },
    {
      "cell_type": "code",
      "execution_count": 4,
      "metadata": {
        "id": "q6gn8_8PZ47L"
      },
      "outputs": [],
      "source": [
        "df_metadata = pd.read_csv('/content/Generating-Gene-Expression-Responses-to-Environmental-Stress-Using-VAEs/data/rice_sra_with_run_accessions.tsv', sep='\\t')\n",
        "df_metadata['run_accessions'] = df_metadata['run_accessions'].apply(lambda x: x.split(',')[0])"
      ]
    },
    {
      "cell_type": "code",
      "source": [
        "def load_and_preprocess_data(zip_file_path, variance_threshold=1e-10):\n",
        "    # Load data\n",
        "    with zipfile.ZipFile(zip_file_path, 'r') as zip_ref:\n",
        "        with zip_ref.open('combined_counts_matrix.txt') as file:\n",
        "            df = pd.read_csv(file, sep='\\t')\n",
        "\n",
        "    # Initial preprocessing\n",
        "    df.set_index('Geneid', inplace=True)\n",
        "    df = df.transpose()\n",
        "    df.reset_index(inplace=True)\n",
        "    df.rename(columns={'index': 'Accession'}, inplace=True)\n",
        "\n",
        "    # Convert to numeric\n",
        "    df_numeric = df.drop(columns=['Accession']).apply(pd.to_numeric, errors='coerce')\n",
        "\n",
        "    # Calculate variances before log transformation\n",
        "    gene_variances = df_numeric.var()\n",
        "    gene_stds = np.sqrt(gene_variances)  # Convert to std dev to match correlation check\n",
        "    variable_genes = gene_stds[gene_stds > variance_threshold].index\n",
        "\n",
        "    print(f\"Original number of genes: {len(df_numeric.columns)}\")\n",
        "    print(f\"Number of variable genes: {len(variable_genes)}\")\n",
        "    print(f\"Removed {len(df_numeric.columns) - len(variable_genes)} constant genes\")\n",
        "\n",
        "    # Filter for variable genes\n",
        "    df_numeric = df_numeric[variable_genes]\n",
        "\n",
        "    # Log transform\n",
        "    df_log = np.log1p(df_numeric)\n",
        "\n",
        "    # Scale\n",
        "    scaler = StandardScaler()\n",
        "    df_scaled = pd.DataFrame(\n",
        "        scaler.fit_transform(df_log),\n",
        "        columns=df_log.columns\n",
        "    )\n",
        "\n",
        "    # Add back Accession\n",
        "    df_scaled.insert(0, 'Accession', df['Accession'])\n",
        "\n",
        "    # Prepare tensor\n",
        "    X = df_scaled.drop(columns=['Accession']).values\n",
        "    X_tensor = torch.tensor(X, dtype=torch.float32)\n",
        "\n",
        "    return df_scaled, X_tensor, variable_genes\n"
      ],
      "metadata": {
        "id": "fVOkEm2v9GnG"
      },
      "execution_count": 5,
      "outputs": []
    },
    {
      "cell_type": "code",
      "source": [
        "zip_file_path = '/content/Generating-Gene-Expression-Responses-to-Environmental-Stress-Using-VAEs/data/combined_counts_matrix.txt.zip'\n",
        "df_scaled, X_tensor, variable_genes = load_and_preprocess_data(zip_file_path)"
      ],
      "metadata": {
        "id": "N58Vjc1-9IWK",
        "colab": {
          "base_uri": "https://localhost:8080/"
        },
        "outputId": "145f0606-8adf-4fdd-dba8-bf85c80bb7fe"
      },
      "execution_count": 6,
      "outputs": [
        {
          "output_type": "stream",
          "name": "stdout",
          "text": [
            "Original number of genes: 37600\n",
            "Number of variable genes: 36181\n",
            "Removed 1419 constant genes\n"
          ]
        }
      ]
    },
    {
      "cell_type": "code",
      "execution_count": 7,
      "metadata": {
        "id": "wFnZuOl-lwPN"
      },
      "outputs": [],
      "source": [
        "class VAEDataLoader:\n",
        "    def __init__(self, X, metadata_df=None, batch_size=16, test_size=0.2):\n",
        "        self.batch_size = batch_size\n",
        "        self.test_size = test_size\n",
        "\n",
        "        # Prepare the data and split into train and test sets\n",
        "        if metadata_df is not None:\n",
        "            dataset, metadata_encoded, _ = prepare_data(X, metadata_df)\n",
        "            self.condition_dim = metadata_encoded.shape[1]\n",
        "        else:\n",
        "            dataset, _, _ = prepare_data(X)\n",
        "            self.condition_dim = None\n",
        "\n",
        "        train_data, test_data = train_test_split(dataset, test_size=self.test_size)\n",
        "\n",
        "        # Create train and test DataLoaders\n",
        "        self.train_loader = DataLoader(train_data, batch_size=self.batch_size, shuffle=True)\n",
        "        self.test_loader = DataLoader(test_data, batch_size=self.batch_size, shuffle=False)\n",
        "\n",
        "    def get_loaders(self):\n",
        "        return self.train_loader, self.test_loader\n",
        "\n",
        "    def get_condition_dim(self):\n",
        "        return self.condition_dim\n",
        "\n",
        "\n",
        "class FlexibleVAE(nn.Module):\n",
        "    def __init__(self, input_dim, latent_dim=10, hidden_dim=128, condition_dim=None):\n",
        "        super(FlexibleVAE, self).__init__()\n",
        "        self.input_dim = input_dim\n",
        "        self.latent_dim = latent_dim\n",
        "        self.hidden_dim = hidden_dim\n",
        "        self.condition_dim = condition_dim\n",
        "        self.is_conditional = condition_dim is not None\n",
        "\n",
        "        # Encoder\n",
        "        encoder_input_dim = input_dim + (condition_dim if self.is_conditional else 0)\n",
        "        self.encoder = nn.Sequential(\n",
        "            nn.Linear(encoder_input_dim, hidden_dim),\n",
        "            nn.BatchNorm1d(hidden_dim),\n",
        "            nn.ReLU(),\n",
        "            nn.Dropout(0.2)\n",
        "        )\n",
        "\n",
        "        self.fc_mean = nn.Linear(hidden_dim, latent_dim)\n",
        "        self.fc_logvar = nn.Linear(hidden_dim, latent_dim)\n",
        "\n",
        "        # Decoder\n",
        "        decoder_input_dim = latent_dim + (condition_dim if self.is_conditional else 0)\n",
        "        self.decoder = nn.Sequential(\n",
        "            nn.Linear(decoder_input_dim, hidden_dim),\n",
        "            nn.BatchNorm1d(hidden_dim),\n",
        "            nn.ReLU(),\n",
        "            nn.Dropout(0.2),\n",
        "            nn.Linear(hidden_dim, input_dim)\n",
        "        )\n",
        "\n",
        "    def encode(self, x, c=None):\n",
        "        if self.is_conditional and c is not None:\n",
        "            x = torch.cat([x, c], dim=1)\n",
        "        h = self.encoder(x)\n",
        "        return self.fc_mean(h), self.fc_logvar(h)\n",
        "\n",
        "    def decode(self, z, c=None):\n",
        "        if self.is_conditional and c is not None:\n",
        "            z = torch.cat([z, c], dim=1)\n",
        "        return self.decoder(z)\n",
        "\n",
        "    def reparameterize(self, mu, logvar):\n",
        "        std = torch.exp(0.5 * torch.clamp(logvar, min=-10, max=10))\n",
        "        eps = torch.randn_like(std)\n",
        "        return mu + eps * std\n",
        "\n",
        "    def forward(self, x, c=None):\n",
        "        mu, logvar = self.encode(x, c)\n",
        "        z = self.reparameterize(mu, logvar)\n",
        "        return self.decode(z, c), mu, logvar\n",
        "\n",
        "def create_metadata_encodings(df):\n",
        "    \"\"\"Create simple one-hot encodings for each unique experimental factor\"\"\"\n",
        "    processed_factors = df['experiment_attribute'].apply(process_experimental_factors)\n",
        "\n",
        "    # Just use MultiLabelBinarizer directly on processed factors\n",
        "    mlb = MultiLabelBinarizer()\n",
        "    factor_encodings = pd.DataFrame(\n",
        "        mlb.fit_transform(processed_factors),\n",
        "        columns=mlb.classes_,\n",
        "        index=df.index\n",
        "    )\n",
        "    # print(f\"\\nMetadata encoding shape: {factor_encodings.shape}\")\n",
        "    # print(\"\\nFirst few rows of encoded metadata:\")\n",
        "    # print(factor_encodings.head())\n",
        "    # print(\"\\nUnique factors:\")\n",
        "    # print(factor_encodings.columns.tolist())\n",
        "\n",
        "\n",
        "    return factor_encodings, {'all_factors': factor_encodings}  # Keep dict return format for compatibility\n",
        "\n",
        "def process_experimental_factors(experiment_attribute):\n",
        "    \"\"\"Extract experimental factors as single strings\"\"\"\n",
        "    if pd.isna(experiment_attribute):\n",
        "        return []\n",
        "\n",
        "    factors = experiment_attribute.split('||')\n",
        "    processed_factors = []\n",
        "\n",
        "    for factor in factors:\n",
        "        factor = factor.strip()\n",
        "        if factor:  # Keep any non-empty factor\n",
        "            processed_factors.append(factor)\n",
        "\n",
        "    return processed_factors\n",
        "\n",
        "\n",
        "def prepare_data(X, metadata_df=None):\n",
        "    \"\"\"Prepare data for VAE training (conditional or non-conditional)\"\"\"\n",
        "    X_tensor = torch.tensor(X, dtype=torch.float32)\n",
        "\n",
        "    if metadata_df is not None:\n",
        "        metadata_encoded, encoding_dict = create_metadata_encodings(metadata_df)\n",
        "        condition_tensor = torch.tensor(metadata_encoded.values, dtype=torch.float32)\n",
        "        dataset = TensorDataset(X_tensor, condition_tensor)\n",
        "        return dataset, metadata_encoded, encoding_dict\n",
        "    else:\n",
        "        dataset = TensorDataset(X_tensor)\n",
        "        return dataset, None, None\n",
        "\n",
        "def vae_loss(recon_x, x, mu, logvar, beta=1.0):\n",
        "    \"\"\"Compute VAE loss\"\"\"\n",
        "    recon_loss = F.mse_loss(recon_x, x, reduction='sum')\n",
        "    kl_loss = -0.5 * torch.sum(1 + logvar - mu.pow(2) - logvar.exp())\n",
        "    return recon_loss + beta * kl_loss\n",
        "\n",
        "def train_vae(model, data_loader, num_epochs=10, device=\"cuda\"):\n",
        "    \"\"\"Train VAE (handles both conditional and non-conditional)\"\"\"\n",
        "    optimizer = torch.optim.Adam(model.parameters(), lr=1e-4)\n",
        "    model.train()\n",
        "\n",
        "    for epoch in range(num_epochs):\n",
        "        total_loss = 0\n",
        "        num_batches = 0\n",
        "\n",
        "        for batch in data_loader:\n",
        "            if model.is_conditional:\n",
        "                x, c = batch\n",
        "                c = c.to(device, torch.float32)\n",
        "            else:\n",
        "                x = batch[0]\n",
        "                c = None\n",
        "\n",
        "            x = x.to(device, torch.float32)\n",
        "            optimizer.zero_grad()\n",
        "\n",
        "            recon_x, mu, logvar = model(x, c)\n",
        "            loss = vae_loss(recon_x, x, mu, logvar)\n",
        "\n",
        "            loss.backward()\n",
        "            optimizer.step()\n",
        "\n",
        "            total_loss += loss.item()\n",
        "            num_batches += 1\n",
        "\n",
        "        avg_loss = total_loss / num_batches\n",
        "        print(f\"Epoch [{epoch + 1}/{num_epochs}], Average Loss: {avg_loss:.4f}\")\n",
        "\n",
        "def run_vae_training(df_scaled, df_metadata=None, batch_size=16, num_epochs=10, latent_dim=10):\n",
        "    \"\"\"Run VAE training pipeline with optional conditioning\"\"\"\n",
        "    device = torch.device(\"cuda\" if torch.cuda.is_available() else \"cpu\")\n",
        "\n",
        "    # Prepare features and dataset\n",
        "    if df_metadata is not None:\n",
        "        # Merge data for conditional VAE\n",
        "        merged_df = df_scaled.merge(\n",
        "            df_metadata,\n",
        "            left_on='Accession',\n",
        "            right_on='run_accessions',\n",
        "            how='inner'\n",
        "        )\n",
        "\n",
        "        gene_cols = [col for col in df_scaled.columns if col != 'Accession']\n",
        "        X = merged_df[gene_cols].values\n",
        "        metadata_df = merged_df[['experiment_attribute']]\n",
        "    else:\n",
        "        X = df_scaled.drop('Accession', axis=1).values\n",
        "        metadata_df = None\n",
        "\n",
        "    # Initialize data loader class\n",
        "    data_loader_class = VAEDataLoader(X, metadata_df, batch_size=batch_size)\n",
        "    train_loader, test_loader = data_loader_class.get_loaders()\n",
        "    condition_dim = data_loader_class.get_condition_dim()\n",
        "\n",
        "    # Initialize the model\n",
        "    model = FlexibleVAE(\n",
        "        input_dim=X.shape[1],\n",
        "        latent_dim=latent_dim,\n",
        "        condition_dim=condition_dim\n",
        "    ).to(device)\n",
        "\n",
        "    # Train the model\n",
        "    train_vae(model, train_loader, num_epochs=num_epochs, device=device)\n",
        "\n",
        "    return model, train_loader, test_loader\n"
      ]
    },
    {
      "cell_type": "code",
      "execution_count": 8,
      "metadata": {
        "id": "c5QouBMKobtQ"
      },
      "outputs": [],
      "source": [
        "def calculate_mse(model, data_loader, device=\"cuda\"):\n",
        "    \"\"\"Calculate the Mean Squared Error (MSE) of the VAE reconstructions.\"\"\"\n",
        "    model.eval()  # Set model to evaluation mode\n",
        "    mse_values = []\n",
        "\n",
        "    with torch.no_grad():  # Disable gradient calculation\n",
        "        for batch in data_loader:\n",
        "            # Unpack batch data\n",
        "            if model.is_conditional:\n",
        "                x, c = batch\n",
        "                c = c.to(device, torch.float32)\n",
        "            else:\n",
        "                x = batch[0]\n",
        "                c = None\n",
        "\n",
        "            x = x.to(device, torch.float32)\n",
        "\n",
        "            # Obtain reconstruction\n",
        "            recon_x, _, _ = model(x, c)\n",
        "\n",
        "            # Calculate MSE for the current batch and store it\n",
        "            batch_mse = mean_squared_error(x.cpu().numpy(), recon_x.cpu().numpy())\n",
        "            mse_values.append(batch_mse)\n",
        "\n",
        "    # Average MSE across all batches\n",
        "    avg_mse = sum(mse_values) / len(mse_values)\n",
        "    print(f\"Average MSE: {avg_mse:.4f}\")\n",
        "    return avg_mse"
      ]
    },
    {
      "cell_type": "code",
      "execution_count": 9,
      "metadata": {
        "colab": {
          "base_uri": "https://localhost:8080/"
        },
        "id": "r_iIJCfQoJvy",
        "outputId": "b4055bc3-8667-48af-c0b1-573de99125cd"
      },
      "outputs": [
        {
          "output_type": "stream",
          "name": "stdout",
          "text": [
            "Epoch [1/25], Average Loss: 583115.8442\n",
            "Epoch [2/25], Average Loss: 446716.9518\n",
            "Epoch [3/25], Average Loss: 422051.6191\n",
            "Epoch [4/25], Average Loss: 414749.6218\n",
            "Epoch [5/25], Average Loss: 413168.0079\n",
            "Epoch [6/25], Average Loss: 403129.1251\n",
            "Epoch [7/25], Average Loss: 406293.3779\n",
            "Epoch [8/25], Average Loss: 399459.7847\n",
            "Epoch [9/25], Average Loss: 391701.2273\n",
            "Epoch [10/25], Average Loss: 379057.5102\n",
            "Epoch [11/25], Average Loss: 371112.0712\n",
            "Epoch [12/25], Average Loss: 362034.0509\n",
            "Epoch [13/25], Average Loss: 356218.6121\n",
            "Epoch [14/25], Average Loss: 349243.8542\n",
            "Epoch [15/25], Average Loss: 345020.2323\n",
            "Epoch [16/25], Average Loss: 338484.5288\n",
            "Epoch [17/25], Average Loss: 336247.4695\n",
            "Epoch [18/25], Average Loss: 336420.6839\n",
            "Epoch [19/25], Average Loss: 334032.5023\n",
            "Epoch [20/25], Average Loss: 331703.3104\n",
            "Epoch [21/25], Average Loss: 328105.2959\n",
            "Epoch [22/25], Average Loss: 329914.9762\n",
            "Epoch [23/25], Average Loss: 323998.9791\n",
            "Epoch [24/25], Average Loss: 321758.1557\n",
            "Epoch [25/25], Average Loss: 321814.0406\n",
            "Average MSE: 0.5397\n",
            "Test MSE: 0.5397\n"
          ]
        }
      ],
      "source": [
        "def evaluate_vae(model, test_loader, device=\"cuda\"):\n",
        "    \"\"\"Evaluate VAE performance on test data using MSE.\"\"\"\n",
        "    average_mse = calculate_mse(model, test_loader, device=device)\n",
        "    print(f\"Test MSE: {average_mse:.4f}\")\n",
        "    return average_mse\n",
        "\n",
        "model, train_loader, test_loader = run_vae_training(df_scaled,num_epochs=25)\n",
        "test_mse = evaluate_vae(model, test_loader)\n"
      ]
    },
    {
      "cell_type": "code",
      "execution_count": 10,
      "metadata": {
        "collapsed": true,
        "id": "rGVq2F9flwZA"
      },
      "outputs": [],
      "source": [
        "# model, train_loader, test_loader = run_vae_training(df_scaled,df_metadata=df_metadata,num_epochs=25)\n",
        "# test_mse = evaluate_vae(model2, test_loader)"
      ]
    },
    {
      "cell_type": "code",
      "execution_count": 13,
      "metadata": {
        "id": "zxpOFGTgRAmG"
      },
      "outputs": [],
      "source": [
        "def calculate_correlations(model, data_loader, device=\"cuda\"):\n",
        "    \"\"\"Calculate correlations between actual and predicted gene expression values\"\"\"\n",
        "    model.eval()\n",
        "    all_actual = []\n",
        "    all_predicted = []\n",
        "\n",
        "    with torch.no_grad():\n",
        "        for batch in data_loader:\n",
        "            if model.is_conditional:\n",
        "                x, c = batch\n",
        "                c = c.to(device, torch.float32)\n",
        "            else:\n",
        "                x = batch[0]\n",
        "                c = None\n",
        "\n",
        "            x = x.to(device, torch.float32)\n",
        "            recon_x, _, _ = model(x, c)\n",
        "\n",
        "            all_actual.append(x.cpu().numpy())\n",
        "            all_predicted.append(recon_x.cpu().numpy())\n",
        "\n",
        "    actual = np.concatenate(all_actual, axis=0)\n",
        "    predicted = np.concatenate(all_predicted, axis=0)\n",
        "\n",
        "    pearson_corrs = []\n",
        "    spearman_corrs = []\n",
        "\n",
        "    for i in range(actual.shape[1]):  # For each gene\n",
        "        try:\n",
        "            # Check if either array is constant\n",
        "            if np.std(actual[:, i]) == 0 or np.std(predicted[:, i]) == 0:\n",
        "                pearson_corr = np.nan\n",
        "                spearman_corr = np.nan\n",
        "            else:\n",
        "                pearson_corr = pearsonr(actual[:, i], predicted[:, i])[0]\n",
        "                spearman_corr = spearmanr(actual[:, i], predicted[:, i])[0]\n",
        "        except:\n",
        "            pearson_corr = np.nan\n",
        "            spearman_corr = np.nan\n",
        "\n",
        "        pearson_corrs.append(pearson_corr)\n",
        "        spearman_corrs.append(spearman_corr)\n",
        "\n",
        "    # Filter out NaN values for statistics\n",
        "    valid_pearson = [x for x in pearson_corrs if not np.isnan(x)]\n",
        "    valid_spearman = [x for x in spearman_corrs if not np.isnan(x)]\n",
        "\n",
        "    print(\"\\nCorrelation Statistics:\")\n",
        "    print(f\"Number of genes with valid correlations: {len(valid_pearson)} out of {len(pearson_corrs)}\")\n",
        "    print(f\"Mean Pearson correlation: {np.mean(valid_pearson):.4f}\")\n",
        "    print(f\"Median Pearson correlation: {np.median(valid_pearson):.4f}\")\n",
        "    print(f\"Mean Spearman correlation: {np.mean(valid_spearman):.4f}\")\n",
        "    print(f\"Median Spearman correlation: {np.median(valid_spearman):.4f}\")\n",
        "\n",
        "    # Count genes where VAE prediction is constant\n",
        "    pred_stds = np.std(predicted, axis=0)\n",
        "    constant_predictions = np.sum(pred_stds == 0)\n",
        "    print(f\"\\nNumber of genes with constant predictions: {constant_predictions}\")\n",
        "\n",
        "    return pearson_corrs, spearman_corrs"
      ]
    },
    {
      "cell_type": "code",
      "execution_count": 14,
      "metadata": {
        "id": "yyU5Zl22dYD4",
        "colab": {
          "base_uri": "https://localhost:8080/",
          "height": 814
        },
        "outputId": "1a04412b-4e52-499c-afee-cee10cccc3c4"
      },
      "outputs": [
        {
          "output_type": "stream",
          "name": "stdout",
          "text": [
            "Average MSE: 0.5396\n"
          ]
        },
        {
          "output_type": "stream",
          "name": "stderr",
          "text": [
            "<ipython-input-13-9e72f056006c>:35: ConstantInputWarning: An input array is constant; the correlation coefficient is not defined.\n",
            "  pearson_corr = pearsonr(actual[:, i], predicted[:, i])[0]\n",
            "<ipython-input-13-9e72f056006c>:36: ConstantInputWarning: An input array is constant; the correlation coefficient is not defined.\n",
            "  spearman_corr = spearmanr(actual[:, i], predicted[:, i])[0]\n"
          ]
        },
        {
          "output_type": "stream",
          "name": "stdout",
          "text": [
            "\n",
            "Correlation Statistics:\n",
            "Number of genes with valid correlations: 34068 out of 36181\n",
            "Mean Pearson correlation: 0.6924\n",
            "Median Pearson correlation: 0.7611\n",
            "Mean Spearman correlation: 0.3764\n",
            "Median Spearman correlation: 0.3753\n",
            "\n",
            "Number of genes with constant predictions: 0\n"
          ]
        },
        {
          "output_type": "display_data",
          "data": {
            "text/plain": [
              "<Figure size 1500x500 with 3 Axes>"
            ],
            "image/png": "[encoded data removed]"
          },
          "metadata": {}
        },
        {
          "output_type": "stream",
          "name": "stdout",
          "text": [
            "\n",
            "Summary Statistics:\n",
            "MSE: 0.5396\n",
            "Number of genes analyzed: 34068\n",
            "Mean Pearson correlation: 0.6924\n",
            "Mean Spearman correlation: 0.3764\n",
            "Percentage of constant genes: 5.84%\n"
          ]
        }
      ],
      "source": [
        "# Calculate MSE and correlations\n",
        "mse = calculate_mse(model, test_loader, device)\n",
        "pearson_corrs, spearman_corrs = calculate_correlations(model, test_loader, device)\n",
        "\n",
        "# Visualization\n",
        "plt.figure(figsize=(15, 5))\n",
        "\n",
        "# Plot Pearson correlations\n",
        "plt.subplot(1, 3, 1)\n",
        "valid_pearson = [x for x in pearson_corrs if not np.isnan(x)]\n",
        "plt.hist(valid_pearson, bins=50)\n",
        "plt.title('Distribution of Pearson Correlations\\n(Non-constant genes only)')\n",
        "plt.xlabel('Correlation')\n",
        "plt.ylabel('Count')\n",
        "\n",
        "# Plot Spearman correlations\n",
        "plt.subplot(1, 3, 2)\n",
        "valid_spearman = [x for x in spearman_corrs if not np.isnan(x)]\n",
        "plt.hist(valid_spearman, bins=50)\n",
        "plt.title('Distribution of Spearman Correlations\\n(Non-constant genes only)')\n",
        "plt.xlabel('Correlation')\n",
        "plt.ylabel('Count')\n",
        "\n",
        "# Optional: Scatter plot of Pearson vs Spearman\n",
        "plt.subplot(1, 3, 3)\n",
        "valid_indices = [i for i in range(len(pearson_corrs))\n",
        "                if not (np.isnan(pearson_corrs[i]) or np.isnan(spearman_corrs[i]))]\n",
        "valid_pearson = [pearson_corrs[i] for i in valid_indices]\n",
        "valid_spearman = [spearman_corrs[i] for i in valid_indices]\n",
        "plt.scatter(valid_pearson, valid_spearman, alpha=0.1)\n",
        "plt.title('Pearson vs Spearman Correlations')\n",
        "plt.xlabel('Pearson Correlation')\n",
        "plt.ylabel('Spearman Correlation')\n",
        "plt.plot([-1, 1], [-1, 1], 'r--')  # diagonal line\n",
        "\n",
        "plt.tight_layout()\n",
        "plt.show()\n",
        "\n",
        "# Print summary statistics\n",
        "print(\"\\nSummary Statistics:\")\n",
        "print(f\"MSE: {mse:.4f}\")\n",
        "print(f\"Number of genes analyzed: {len(valid_pearson)}\")\n",
        "print(f\"Mean Pearson correlation: {np.mean(valid_pearson):.4f}\")\n",
        "print(f\"Mean Spearman correlation: {np.mean(valid_spearman):.4f}\")\n",
        "print(f\"Percentage of constant genes: {100 * (1 - len(valid_pearson)/len(pearson_corrs)):.2f}%\")"
      ]
    },
    {
      "cell_type": "code",
      "source": [
        "# Save numerical results to a text file\n",
        "with open('vae_performance_results.txt', 'w') as f:\n",
        "    f.write(\"VAE Performance Results\\n\")\n",
        "    f.write(\"======================\\n\\n\")\n",
        "    f.write(f\"Mean Squared Error: {mse:.4f}\\n\\n\")\n",
        "    f.write(\"Gene Coverage:\\n\")\n",
        "    f.write(f\"Total genes: {len(pearson_corrs)}\\n\")\n",
        "    f.write(f\"Genes with variation: {len(valid_pearson)}\\n\")\n",
        "    f.write(f\"Percentage constant genes: {100 * (1 - len(valid_pearson)/len(pearson_corrs)):.2f}%\\n\\n\")\n",
        "    f.write(\"Correlation Statistics:\\n\")\n",
        "    f.write(f\"Mean Pearson correlation: {np.mean(valid_pearson):.4f}\\n\")\n",
        "    f.write(f\"Median Pearson correlation: {np.median(valid_pearson):.4f}\\n\")\n",
        "    f.write(f\"Mean Spearman correlation: {np.mean(valid_spearman):.4f}\\n\")\n",
        "    f.write(f\"Median Spearman correlation: {np.median(valid_spearman):.4f}\\n\")\n",
        "\n",
        "# Save plot with high resolution\n",
        "plt.figure(figsize=(15, 5))\n",
        "\n",
        "# Plot Pearson correlations\n",
        "plt.subplot(1, 3, 1)\n",
        "plt.hist(valid_pearson, bins=50)\n",
        "plt.title('Distribution of Pearson Correlations\\n(Non-constant genes only)')\n",
        "plt.xlabel('Correlation')\n",
        "plt.ylabel('Count')\n",
        "\n",
        "# Plot Spearman correlations\n",
        "plt.subplot(1, 3, 2)\n",
        "plt.hist(valid_spearman, bins=50)\n",
        "plt.title('Distribution of Spearman Correlations\\n(Non-constant genes only)')\n",
        "plt.xlabel('Correlation')\n",
        "plt.ylabel('Count')\n",
        "\n",
        "# Scatter plot of Pearson vs Spearman\n",
        "plt.subplot(1, 3, 3)\n",
        "plt.scatter(valid_pearson, valid_spearman, alpha=0.1)\n",
        "plt.title('Pearson vs Spearman Correlations')\n",
        "plt.xlabel('Pearson Correlation')\n",
        "plt.ylabel('Spearman Correlation')\n",
        "plt.plot([-1, 1], [-1, 1], 'r--')\n",
        "\n",
        "plt.tight_layout()\n",
        "\n",
        "# Save high-resolution plot\n",
        "plt.savefig('vae_correlations.png', dpi=300, bbox_inches='tight')\n",
        "plt.savefig('vae_correlations.pdf', bbox_inches='tight')  # Vector format for publication\n",
        "plt.close()\n",
        "\n",
        "# Optionally save raw correlation data\n",
        "results_df = pd.DataFrame({\n",
        "    'pearson_correlation': pearson_corrs,\n",
        "    'spearman_correlation': spearman_corrs\n",
        "})\n",
        "results_df.to_csv('correlation_results.csv')"
      ],
      "metadata": {
        "id": "aSyZq8p7icwk"
      },
      "execution_count": 15,
      "outputs": []
    },
    {
      "cell_type": "code",
      "source": [],
      "metadata": {
        "id": "Hq6WQXhfic6N"
      },
      "execution_count": null,
      "outputs": []
    }
  ],
  "metadata": {
    "accelerator": "GPU",
    "colab": {
      "gpuType": "T4",
      "provenance": [],
      "include_colab_link": true
    },
    "kernelspec": {
      "display_name": "Python 3",
      "name": "python3"
    },
    "language_info": {
      "name": "python"
    }
  },
  "nbformat": 4,
  "nbformat_minor": 0
}