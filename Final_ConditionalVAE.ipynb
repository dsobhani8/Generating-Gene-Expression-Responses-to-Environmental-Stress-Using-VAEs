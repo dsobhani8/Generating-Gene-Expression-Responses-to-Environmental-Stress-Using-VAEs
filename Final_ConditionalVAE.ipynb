{
  "cells": [
    {
      "cell_type": "markdown",
      "metadata": {
        "id": "view-in-github",
        "colab_type": "text"
      },
      "source": [
        "<a href=\"https://colab.research.google.com/github/dsobhani8/Generating-Gene-Expression-Responses-to-Environmental-Stress-Using-VAEs/blob/main/Final_ConditionalVAE.ipynb\" target=\"_parent\"><img src=\"https://colab.research.google.com/assets/colab-badge.svg\" alt=\"Open In Colab\"/></a>"
      ]
    },
    {
      "cell_type": "code",
      "execution_count": null,
      "metadata": {
        "colab": {
          "base_uri": "https://localhost:8080/"
        },
        "id": "spFHLcGMSbRU",
        "outputId": "563435d6-2fed-46c1-912c-dde1720008db"
      },
      "outputs": [
        {
          "output_type": "stream",
          "name": "stdout",
          "text": [
            "fatal: destination path 'Generating-Gene-Expression-Responses-to-Environmental-Stress-Using-VAEs' already exists and is not an empty directory.\n"
          ]
        }
      ],
      "source": [
        "!git clone https://github.com/dsobhani8/Generating-Gene-Expression-Responses-to-Environmental-Stress-Using-VAEs.git"
      ]
    },
    {
      "cell_type": "code",
      "execution_count": null,
      "metadata": {
        "colab": {
          "base_uri": "https://localhost:8080/"
        },
        "id": "tcT5R5-VbeyZ",
        "outputId": "e665a2d4-5df9-491d-9d4b-a4f50e70bc98"
      },
      "outputs": [
        {
          "output_type": "stream",
          "name": "stdout",
          "text": [
            "Requirement already satisfied: umap-learn in /usr/local/lib/python3.10/dist-packages (0.5.7)\n",
            "Requirement already satisfied: numpy>=1.17 in /usr/local/lib/python3.10/dist-packages (from umap-learn) (1.26.4)\n",
            "Requirement already satisfied: scipy>=1.3.1 in /usr/local/lib/python3.10/dist-packages (from umap-learn) (1.13.1)\n",
            "Requirement already satisfied: scikit-learn>=0.22 in /usr/local/lib/python3.10/dist-packages (from umap-learn) (1.5.2)\n",
            "Requirement already satisfied: numba>=0.51.2 in /usr/local/lib/python3.10/dist-packages (from umap-learn) (0.60.0)\n",
            "Requirement already satisfied: pynndescent>=0.5 in /usr/local/lib/python3.10/dist-packages (from umap-learn) (0.5.13)\n",
            "Requirement already satisfied: tqdm in /usr/local/lib/python3.10/dist-packages (from umap-learn) (4.66.6)\n",
            "Requirement already satisfied: llvmlite<0.44,>=0.43.0dev0 in /usr/local/lib/python3.10/dist-packages (from numba>=0.51.2->umap-learn) (0.43.0)\n",
            "Requirement already satisfied: joblib>=0.11 in /usr/local/lib/python3.10/dist-packages (from pynndescent>=0.5->umap-learn) (1.4.2)\n",
            "Requirement already satisfied: threadpoolctl>=3.1.0 in /usr/local/lib/python3.10/dist-packages (from scikit-learn>=0.22->umap-learn) (3.5.0)\n"
          ]
        }
      ],
      "source": [
        "!pip install umap-learn"
      ]
    },
    {
      "cell_type": "code",
      "execution_count": null,
      "metadata": {
        "id": "BNJBZgaBP1K_"
      },
      "outputs": [],
      "source": [
        "import torch\n",
        "import torch.nn as nn\n",
        "import torch.optim as optim\n",
        "from torch.utils.data import DataLoader, TensorDataset\n",
        "import pandas as pd\n",
        "import numpy as np\n",
        "from sklearn.preprocessing import StandardScaler, MultiLabelBinarizer, LabelEncoder\n",
        "import torch.nn.functional as F\n",
        "from sklearn.model_selection import train_test_split\n",
        "from sklearn.metrics import mean_squared_error\n",
        "import zipfile\n",
        "from scipy.stats import pearsonr, spearmanr\n",
        "import matplotlib.pyplot as plt\n",
        "import copy\n",
        "import umap\n",
        "from torch.utils.data import WeightedRandomSampler"
      ]
    },
    {
      "cell_type": "code",
      "execution_count": null,
      "metadata": {
        "id": "iq6O53Oxdgal"
      },
      "outputs": [],
      "source": [
        "device = torch.device(\"cuda\" if torch.cuda.is_available() else \"cpu\")"
      ]
    },
    {
      "cell_type": "code",
      "execution_count": null,
      "metadata": {
        "id": "q6gn8_8PZ47L"
      },
      "outputs": [],
      "source": [
        "df_metadata = pd.read_csv('/content/Generating-Gene-Expression-Responses-to-Environmental-Stress-Using-VAEs/data/plants_metadata.csv')\n",
        "df_metadata['run_accessions'] = df_metadata['run_accessions'].apply(lambda x: x.split(',')[0])"
      ]
    },
    {
      "cell_type": "markdown",
      "source": [
        "Conditions with more than 50 samples, such as Chironomus kiiensis and Globisporangium nunn—insects or pathogens that disrupt plants—were excluded, as our focus is on stressors likely to increase in relevance in the future, such as Cadmium, due to the growing prevalence of batteries."
      ],
      "metadata": {
        "id": "NYc26FFYRUmQ"
      }
    },
    {
      "cell_type": "code",
      "execution_count": null,
      "metadata": {
        "id": "fQkhLP_mpAi6"
      },
      "outputs": [],
      "source": [
        "threshold=50\n",
        "filtered_metadata = df_metadata[\n",
        "    (df_metadata['Unified_Condition'].map(df_metadata['Unified_Condition'].value_counts()) >= threshold) &\n",
        "    (df_metadata['Unified_Condition'] != \"Nitrogen\") &\n",
        "    (df_metadata['Unified_Condition'] != \"Chironomus kiiensis\") &\n",
        "    (df_metadata['Unified_Condition'] != \"Globiosporangium nunn\")\n",
        "]\n"
      ]
    },
    {
      "cell_type": "code",
      "execution_count": null,
      "metadata": {
        "id": "DbNG8lFkca9H"
      },
      "outputs": [],
      "source": [
        "if \"Normal\" in filtered_metadata['Unified_Condition'].unique():\n",
        "    sampled_drought = filtered_metadata[filtered_metadata['Unified_Condition'] == \"Normal\"].sample(\n",
        "        n=378, random_state=42\n",
        "    )\n",
        "filtered_metadata = pd.concat([\n",
        "        filtered_metadata[filtered_metadata['Unified_Condition'] != \"Normal\"],\n",
        "        sampled_drought\n",
        "    ])"
      ]
    },
    {
      "cell_type": "code",
      "execution_count": null,
      "metadata": {
        "colab": {
          "base_uri": "https://localhost:8080/",
          "height": 304
        },
        "id": "g6rtdCsmsjr8",
        "outputId": "6ae2a0d2-a689-45cd-84f2-a89eec430d2e"
      },
      "outputs": [
        {
          "output_type": "execute_result",
          "data": {
            "text/plain": [
              "Unified_Condition\n",
              "Normal     378\n",
              "Cadmium    106\n",
              "Flood       92\n",
              "Salt        66\n",
              "Cold        59\n",
              "Drought     55\n",
              "Name: count, dtype: int64"
            ],
            "text/html": [
              "<div>\n",
              "<style scoped>\n",
              "    .dataframe tbody tr th:only-of-type {\n",
              "        vertical-align: middle;\n",
              "    }\n",
              "\n",
              "    .dataframe tbody tr th {\n",
              "        vertical-align: top;\n",
              "    }\n",
              "\n",
              "    .dataframe thead th {\n",
              "        text-align: right;\n",
              "    }\n",
              "</style>\n",
              "<table border=\"1\" class=\"dataframe\">\n",
              "  <thead>\n",
              "    <tr style=\"text-align: right;\">\n",
              "      <th></th>\n",
              "      <th>count</th>\n",
              "    </tr>\n",
              "    <tr>\n",
              "      <th>Unified_Condition</th>\n",
              "      <th></th>\n",
              "    </tr>\n",
              "  </thead>\n",
              "  <tbody>\n",
              "    <tr>\n",
              "      <th>Normal</th>\n",
              "      <td>378</td>\n",
              "    </tr>\n",
              "    <tr>\n",
              "      <th>Cadmium</th>\n",
              "      <td>106</td>\n",
              "    </tr>\n",
              "    <tr>\n",
              "      <th>Flood</th>\n",
              "      <td>92</td>\n",
              "    </tr>\n",
              "    <tr>\n",
              "      <th>Salt</th>\n",
              "      <td>66</td>\n",
              "    </tr>\n",
              "    <tr>\n",
              "      <th>Cold</th>\n",
              "      <td>59</td>\n",
              "    </tr>\n",
              "    <tr>\n",
              "      <th>Drought</th>\n",
              "      <td>55</td>\n",
              "    </tr>\n",
              "  </tbody>\n",
              "</table>\n",
              "</div><br><label><b>dtype:</b> int64</label>"
            ]
          },
          "metadata": {},
          "execution_count": 8
        }
      ],
      "source": [
        "filtered_metadata['Unified_Condition'].value_counts()"
      ]
    },
    {
      "cell_type": "code",
      "execution_count": null,
      "metadata": {
        "id": "glrX97abpGsJ"
      },
      "outputs": [],
      "source": [
        "df_metadata = filtered_metadata"
      ]
    },
    {
      "cell_type": "code",
      "execution_count": null,
      "metadata": {
        "id": "fVOkEm2v9GnG"
      },
      "outputs": [],
      "source": [
        "def load_and_preprocess_data(zip_file_path, df_metadata, variance_threshold=1e-10):\n",
        "    # Load data\n",
        "    with zipfile.ZipFile(zip_file_path, 'r') as zip_ref:\n",
        "        with zip_ref.open('combined_counts_matrix.txt') as file:\n",
        "            df = pd.read_csv(file, sep='\\t')\n",
        "\n",
        "    df.set_index('Geneid', inplace=True)\n",
        "    df = df.transpose()\n",
        "    df.reset_index(inplace=True)\n",
        "    df.rename(columns={'index': 'Accession'}, inplace=True)\n",
        "\n",
        "    # print(\"Initial data:\")\n",
        "    # print(df.head())\n",
        "    # print(df['Accession'])\n",
        "\n",
        "    if 'run_accessions' not in df_metadata.columns:\n",
        "        raise KeyError(\"df_metadata does not have an 'Accession' column.\")\n",
        "\n",
        "    valid_accessions = df_metadata['run_accessions'].unique()\n",
        "    df = df[df['Accession'].isin(valid_accessions)]\n",
        "\n",
        "    print(f\"Data after filtering with metadata (rows retained): {df.shape[0]}\")\n",
        "\n",
        "    accession_values = df['Accession'].copy()\n",
        "\n",
        "    df_numeric = df.drop(columns=['Accession']).apply(pd.to_numeric, errors='coerce')\n",
        "\n",
        "    gene_variances = df_numeric.var()\n",
        "    gene_stds = np.sqrt(gene_variances)  # Convert variances to std\n",
        "    variable_genes = gene_stds[gene_stds > variance_threshold].index\n",
        "\n",
        "    print(f\"Original number of genes: {len(df_numeric.columns)}\")\n",
        "    print(f\"Number of variable genes: {len(variable_genes)}\")\n",
        "    print(f\"Removed {len(df_numeric.columns) - len(variable_genes)} constant genes\")\n",
        "\n",
        "    df_numeric = df_numeric[variable_genes]\n",
        "\n",
        "    df_log = np.log1p(df_numeric)\n",
        "\n",
        "    scaler = StandardScaler()\n",
        "    df_scaled = pd.DataFrame(\n",
        "        scaler.fit_transform(df_log),\n",
        "        columns=df_log.columns\n",
        "    )\n",
        "\n",
        "    df_scaled.insert(0, 'Accession', accession_values)\n",
        "\n",
        "    X = df_scaled.drop(columns=['Accession']).values\n",
        "    X_tensor = torch.tensor(X, dtype=torch.float32)\n",
        "\n",
        "    return df_scaled, X_tensor, variable_genes\n"
      ]
    },
    {
      "cell_type": "code",
      "execution_count": null,
      "metadata": {
        "colab": {
          "base_uri": "https://localhost:8080/"
        },
        "id": "N58Vjc1-9IWK",
        "outputId": "4331f409-fcc9-4b0b-8ed9-fae5cdd5be37"
      },
      "outputs": [
        {
          "output_type": "stream",
          "name": "stdout",
          "text": [
            "Geneid  Accession  LOC4326813  LOC112163590  LOC4326455  LOC112163591  \\\n",
            "0       DRR145202           0             0           0             0   \n",
            "1       DRR302331           0             0           0             0   \n",
            "2       DRR254176           0             0           0             0   \n",
            "3       DRR013398           4             0           0             4   \n",
            "4       DRR002712           4             0           1            10   \n",
            "\n",
            "Geneid  LOC4326456  LOC4326457  LOC4326458  LOC4326459  LOC4326460  ...  \\\n",
            "0                0           0           0           0           0  ...   \n",
            "1                0           0           0           0           0  ...   \n",
            "2                0           0           0           0           0  ...   \n",
            "3                1           2           3          10           2  ...   \n",
            "4                8           4          10           8           1  ...   \n",
            "\n",
            "Geneid  OrsajCp107  OrsajCt160  OrsajCp108  OrsajCp109  OrsajCp110  \\\n",
            "0                0           0           0           0           0   \n",
            "1                0           0           0           0           0   \n",
            "2                0           0           0           0           0   \n",
            "3                0           0           0           0           0   \n",
            "4                0           0           0           0           0   \n",
            "\n",
            "Geneid  OrsajCp111  OrsajCt161  OrsajCp112  unassigned_gene_1  \\\n",
            "0                0           0           0                  0   \n",
            "1                0           0           0                  0   \n",
            "2                0           0           0                  0   \n",
            "3                0           0           0                  0   \n",
            "4                0           0           0                  0   \n",
            "\n",
            "Geneid  unassigned_gene_2  \n",
            "0                       0  \n",
            "1                       0  \n",
            "2                       0  \n",
            "3                       0  \n",
            "4                       0  \n",
            "\n",
            "[5 rows x 37601 columns]\n",
            "Data after filtering with metadata (rows retained): 740\n",
            "Original number of genes: 37600\n",
            "Number of variable genes: 34366\n",
            "Removed 3234 constant genes\n"
          ]
        }
      ],
      "source": [
        "zip_file_path = '/content/Generating-Gene-Expression-Responses-to-Environmental-Stress-Using-VAEs/data/combined_counts_matrix.txt.zip'\n",
        "df_scaled, X_tensor, variable_genes = load_and_preprocess_data(zip_file_path, df_metadata)"
      ]
    },
    {
      "cell_type": "code",
      "execution_count": null,
      "metadata": {
        "id": "bUQ-1sHQPMXo"
      },
      "outputs": [],
      "source": [
        "class VAEDataLoader:\n",
        "    def __init__(self, X, metadata_df=None, batch_size=32, train_ratio=0.8, random_seed=42, split_indices=None, min_test_samples_per_condition=5):\n",
        "        self.batch_size = batch_size\n",
        "        self.min_test_samples_per_condition = min_test_samples_per_condition\n",
        "\n",
        "        if metadata_df is not None:\n",
        "            if isinstance(X, torch.Tensor):\n",
        "                X = X.numpy()\n",
        "\n",
        "            data_df = pd.DataFrame(X)\n",
        "            data_df['Accession'] = df_scaled['Accession']\n",
        "\n",
        "            merged_df = data_df.merge(\n",
        "                metadata_df,\n",
        "                left_on='Accession',\n",
        "                right_on='run_accessions',\n",
        "                how='inner'\n",
        "            )\n",
        "\n",
        "            gene_cols = [col for col in data_df.columns if col != 'Accession']\n",
        "            self.X = torch.tensor(merged_df[gene_cols].values, dtype=torch.float32)\n",
        "            self.metadata_df = merged_df.reset_index(drop=True)\n",
        "            condition_encodings = pd.get_dummies(self.metadata_df['Unified_Condition'])\n",
        "            self.conditions = torch.tensor(condition_encodings.values, dtype=torch.float32)\n",
        "        else:\n",
        "            if not isinstance(X, torch.Tensor):\n",
        "                self.X = torch.tensor(X, dtype=torch.float32)\n",
        "            else:\n",
        "                self.X = X\n",
        "            self.conditions = None\n",
        "            self.metadata_df = None\n",
        "\n",
        "        self.create_splits(train_ratio, random_seed, split_indices)\n",
        "\n",
        "    def create_splits(self, train_ratio, random_seed, split_indices=None):\n",
        "        if split_indices is not None:\n",
        "            self.train_indices, self.test_indices = split_indices\n",
        "            return\n",
        "\n",
        "        if self.metadata_df is None or self.conditions is None:\n",
        "            num_samples = len(self.X)\n",
        "            indices = np.arange(num_samples)\n",
        "            np.random.seed(random_seed)\n",
        "            np.random.shuffle(indices)\n",
        "            split_idx = int(train_ratio * num_samples)\n",
        "            self.train_indices = indices[:split_idx]\n",
        "            self.test_indices = indices[split_idx:]\n",
        "            return\n",
        "\n",
        "        np.random.seed(random_seed)\n",
        "\n",
        "        condition_groups = self.metadata_df.groupby('Unified_Condition').apply(lambda df: df.index.values).to_dict()\n",
        "\n",
        "        forced_test_indices = []\n",
        "        for condition, idx_array in condition_groups.items():\n",
        "            if len(idx_array) < self.min_test_samples_per_condition:\n",
        "                raise ValueError(f\"Condition '{condition}' has only {len(idx_array)} samples, \"\n",
        "                                 f\"which is less than the required minimum of {self.min_test_samples_per_condition} for the test set.\")\n",
        "\n",
        "            chosen_test = np.random.choice(idx_array, size=self.min_test_samples_per_condition, replace=False)\n",
        "            forced_test_indices.extend(chosen_test)\n",
        "\n",
        "        forced_test_indices = np.array(forced_test_indices)\n",
        "\n",
        "        all_indices = np.arange(len(self.X))\n",
        "        remaining_indices = np.setdiff1d(all_indices, forced_test_indices)\n",
        "\n",
        "        np.random.shuffle(remaining_indices)\n",
        "\n",
        "        desired_test_size = int((1 - train_ratio) * len(self.X))\n",
        "        additional_test_needed = max(0, desired_test_size - len(forced_test_indices))\n",
        "\n",
        "        if additional_test_needed > 0:\n",
        "            additional_test_indices = remaining_indices[:additional_test_needed]\n",
        "            self.test_indices = np.concatenate([forced_test_indices, additional_test_indices])\n",
        "            self.train_indices = remaining_indices[additional_test_needed:]\n",
        "        else:\n",
        "            self.test_indices = forced_test_indices\n",
        "            self.train_indices = remaining_indices\n",
        "\n",
        "    def get_loaders(self):\n",
        "        if self.conditions is not None:\n",
        "            train_dataset = TensorDataset(\n",
        "                self.X[self.train_indices],\n",
        "                self.conditions[self.train_indices]\n",
        "            )\n",
        "            test_dataset = TensorDataset(\n",
        "                self.X[self.test_indices],\n",
        "                self.conditions[self.test_indices]\n",
        "            )\n",
        "        else:\n",
        "            train_dataset = TensorDataset(self.X[self.train_indices])\n",
        "            test_dataset = TensorDataset(self.X[self.test_indices])\n",
        "\n",
        "        train_loader = DataLoader(train_dataset, batch_size=self.batch_size, shuffle=True)\n",
        "        test_loader = DataLoader(test_dataset, batch_size=self.batch_size)\n",
        "\n",
        "        return train_loader, test_loader\n",
        "\n",
        "    def get_split_indices(self):\n",
        "        return self.train_indices, self.test_indices\n",
        "\n",
        "    def get_condition_dim(self):\n",
        "        return self.conditions.shape[1] if self.conditions is not None else None\n"
      ]
    },
    {
      "cell_type": "code",
      "execution_count": null,
      "metadata": {
        "id": "wFnZuOl-lwPN"
      },
      "outputs": [],
      "source": [
        "class FlexibleVAE(nn.Module):\n",
        "    def __init__(self, input_dim, latent_dim=10, hidden_dims=[128], condition_dim=None):\n",
        "        super(FlexibleVAE, self).__init__()\n",
        "        self.input_dim = input_dim\n",
        "        self.latent_dim = latent_dim\n",
        "        self.condition_dim = condition_dim\n",
        "        self.is_conditional = condition_dim is not None\n",
        "\n",
        "        # Encoder\n",
        "        encoder_input_dim = input_dim + (condition_dim if self.is_conditional else 0)\n",
        "        self.encoder = nn.Sequential(\n",
        "            nn.Linear(encoder_input_dim, hidden_dims[0]),\n",
        "            nn.BatchNorm1d(hidden_dims[0]),\n",
        "            nn.ReLU(),\n",
        "            nn.Dropout(0.2)\n",
        "        )\n",
        "\n",
        "        self.fc_mean = nn.Linear(hidden_dims[0], latent_dim)\n",
        "        self.fc_logvar = nn.Linear(hidden_dims[0], latent_dim)\n",
        "\n",
        "        # Decoder\n",
        "        decoder_input_dim = latent_dim + (condition_dim if self.is_conditional else 0)\n",
        "        self.decoder = nn.Sequential(\n",
        "            nn.Linear(decoder_input_dim, hidden_dims[0]),\n",
        "            nn.BatchNorm1d(hidden_dims[0]),\n",
        "            nn.ReLU(),\n",
        "            nn.Dropout(0.2),\n",
        "            nn.Linear(hidden_dims[0], input_dim)\n",
        "        )\n",
        "\n",
        "    def encode(self, x, c=None):\n",
        "        if self.is_conditional and c is not None:\n",
        "            x = torch.cat([x, c], dim=1)\n",
        "        h = self.encoder(x)\n",
        "        return self.fc_mean(h), self.fc_logvar(h)\n",
        "\n",
        "    def decode(self, z, c=None):\n",
        "        if self.is_conditional and c is not None:\n",
        "            z = torch.cat([z, c], dim=1)\n",
        "        return self.decoder(z)\n",
        "\n",
        "    def reparameterize(self, mu, logvar):\n",
        "        std = torch.exp(0.5 * torch.clamp(logvar, min=-10, max=10))\n",
        "        eps = torch.randn_like(std)\n",
        "        return mu + eps * std\n",
        "\n",
        "    def kl_loss(self, mu, logvar):\n",
        "        return -0.5 * torch.sum(1 + logvar - mu.pow(2) - logvar.exp(), dim=1).mean()\n",
        "\n",
        "    def forward(self, x, c=None):\n",
        "        mu, logvar = self.encode(x, c)\n",
        "        z = self.reparameterize(mu, logvar)\n",
        "        return self.decode(z, c), mu, logvar\n",
        "\n",
        "def create_metadata_encodings(df):\n",
        "    \"\"\"Create one-hot encodings for unified conditions\"\"\"\n",
        "    condition_encodings = pd.get_dummies(df['Unified_Condition'])\n",
        "    return condition_encodings, {'all_conditions': condition_encodings}\n",
        "\n",
        "\n",
        "def prepare_data(X, metadata_df=None):\n",
        "    \"\"\"Prepare data for VAE training (conditional or non-conditional)\"\"\"\n",
        "    X_tensor = torch.tensor(X, dtype=torch.float32)\n",
        "\n",
        "    if metadata_df is not None:\n",
        "        print(\"\\nShape of X:\", X.shape)\n",
        "        metadata_encoded, encoding_dict = create_metadata_encodings(metadata_df)\n",
        "        condition_tensor = torch.tensor(metadata_encoded.values, dtype=torch.float32)\n",
        "        print(\"\\nShape of condition tensor:\", condition_tensor.shape)\n",
        "\n",
        "        # Verify matching dimensions\n",
        "        print(\"\\nNumber of samples match?\", X.shape[0] == condition_tensor.shape[0])\n",
        "\n",
        "        dataset = TensorDataset(X_tensor, condition_tensor)\n",
        "        return dataset, metadata_encoded, encoding_dict\n",
        "    else:\n",
        "        dataset = TensorDataset(X_tensor)\n",
        "        return dataset, None, None\n",
        "\n",
        "def calculate_condition_weights(metadata_encoded, min_samples=5):\n",
        "    \"\"\"Calculate weights for conditions with minimum number of samples\"\"\"\n",
        "    condition_counts = metadata_encoded.sum(axis=0).values\n",
        "\n",
        "    # Filter conditions with enough samples\n",
        "    valid_conditions = condition_counts >= min_samples\n",
        "    filtered_counts = condition_counts[valid_conditions]\n",
        "\n",
        "    if len(filtered_counts) == 0:\n",
        "        print(\"No conditions meet the minimum sample requirement!\")\n",
        "        return None\n",
        "\n",
        "    total_samples = filtered_counts.sum()\n",
        "\n",
        "    # Calculate weights using numpy first\n",
        "    weights = np.zeros(len(condition_counts))\n",
        "    weights[valid_conditions] = total_samples / (filtered_counts * len(filtered_counts))\n",
        "\n",
        "    weights = torch.tensor(weights, dtype=torch.float32)\n",
        "\n",
        "    weights = weights / weights.sum()\n",
        "\n",
        "    print(\"\\nCondition weights (conditions with >= {} samples):\".format(min_samples))\n",
        "    for condition, count, weight in zip(metadata_encoded.columns, condition_counts, weights):\n",
        "        if count >= min_samples:\n",
        "            print(f\"{condition} (n={int(count)}): {weight:.4f}\")\n",
        "\n",
        "    return weights\n",
        "\n",
        "def vae_loss(recon_x, x, mu, logvar, beta=1.0):\n",
        "    \"\"\"Compute VAE loss\"\"\"\n",
        "    recon_loss = F.mse_loss(recon_x, x, reduction='sum')\n",
        "    kl_loss = -0.5 * torch.sum(1 + logvar - mu.pow(2) - logvar.exp())\n",
        "    return recon_loss + beta * kl_loss\n",
        "\n",
        "def train_vae(model, data_loader, num_epochs=10, device=\"cuda\",\n",
        "              patience=5, min_delta=0.001):\n",
        "    \"\"\"Train VAE with early stopping (no weights)\"\"\"\n",
        "    optimizer = torch.optim.Adam(model.parameters(), lr=1e-4)\n",
        "    model.train()\n",
        "\n",
        "    best_loss = float('inf')\n",
        "    counter = 0\n",
        "    best_model = None\n",
        "\n",
        "    for epoch in range(num_epochs):\n",
        "        total_loss = 0\n",
        "        num_batches = 0\n",
        "\n",
        "        for batch in data_loader:\n",
        "            if model.is_conditional:\n",
        "                x, c = batch\n",
        "                c = c.to(device, torch.float32)\n",
        "            else:\n",
        "                x = batch[0]\n",
        "                c = None\n",
        "\n",
        "            x = x.to(device, torch.float32)\n",
        "            optimizer.zero_grad()\n",
        "\n",
        "            recon_x, mu, logvar = model(x, c)\n",
        "            loss = vae_loss(recon_x, x, mu, logvar)\n",
        "\n",
        "            loss.backward()\n",
        "            optimizer.step()\n",
        "\n",
        "            total_loss += loss.item()\n",
        "            num_batches += 1\n",
        "\n",
        "        avg_loss = total_loss / num_batches\n",
        "        print(f\"Epoch [{epoch + 1}/{num_epochs}], Average Loss: {avg_loss:.4f}\")\n",
        "\n",
        "        if avg_loss < best_loss - min_delta:\n",
        "            best_loss = avg_loss\n",
        "            counter = 0\n",
        "            best_model = copy.deepcopy(model.state_dict())\n",
        "        else:\n",
        "            counter += 1\n",
        "            if counter >= patience:\n",
        "                print(f\"Early stopping triggered after {epoch + 1} epochs\")\n",
        "                model.load_state_dict(best_model)\n",
        "                return model\n",
        "\n",
        "    if best_model is not None:\n",
        "        model.load_state_dict(best_model)\n",
        "    return model\n",
        "\n",
        "\n",
        "def run_vae_training(df_scaled, df_metadata=None, batch_size=16, num_epochs=10, latent_dim=10,\n",
        "                     patience=5, min_delta=0.001, train_loader=None, test_loader=None,\n",
        "                     split_indices=None, is_conditional=True):\n",
        "    \"\"\"Run training for VAE (no weights)\"\"\"\n",
        "    device = torch.device(\"cuda\" if torch.cuda.is_available() else \"cpu\")\n",
        "    X = df_scaled.drop('Accession', axis=1).values\n",
        "\n",
        "    if train_loader is None or test_loader is None:\n",
        "        if df_metadata is not None:\n",
        "            merged_df = df_scaled.merge(\n",
        "                df_metadata,\n",
        "                left_on='Accession',\n",
        "                right_on='run_accessions',\n",
        "                how='inner'\n",
        "            )\n",
        "\n",
        "            gene_cols = [col for col in df_scaled.columns if col != 'Accession']\n",
        "            X = merged_df[gene_cols].values\n",
        "            metadata_df = merged_df[['Unified_Condition']]\n",
        "            _, metadata_encoded, _ = prepare_data(X, metadata_df)\n",
        "        else:\n",
        "            metadata_df = None\n",
        "\n",
        "        data_loader_class = VAEDataLoader(X, metadata_df, batch_size=batch_size, split_indices=split_indices)\n",
        "        train_loader, test_loader = data_loader_class.get_loaders()\n",
        "        condition_dim = data_loader_class.get_condition_dim() if is_conditional else None\n",
        "    else:\n",
        "        condition_dim = train_loader.dataset[0][1].shape[0] if is_conditional else None\n",
        "\n",
        "    model = FlexibleVAE(input_dim=X.shape[1],\n",
        "                        latent_dim=latent_dim,\n",
        "                        condition_dim=condition_dim).to(device)\n",
        "\n",
        "    train_vae(model, train_loader, num_epochs=num_epochs, patience=patience,\n",
        "              min_delta=min_delta, device=device)\n",
        "\n",
        "    return model, train_loader, test_loader"
      ]
    },
    {
      "cell_type": "code",
      "execution_count": null,
      "metadata": {
        "id": "c5QouBMKobtQ"
      },
      "outputs": [],
      "source": [
        "def calculate_mse(model, data_loader, device=\"cuda\"):\n",
        "    \"\"\"Calculate the Mean Squared Error (MSE) of the VAE reconstructions.\"\"\"\n",
        "    model.eval()\n",
        "    mse_values = []\n",
        "\n",
        "    with torch.no_grad():\n",
        "        for batch in data_loader:\n",
        "            if model.is_conditional:\n",
        "                x, c = batch\n",
        "                c = c.to(device, torch.float32)\n",
        "            else:\n",
        "                x = batch[0]\n",
        "                c = None\n",
        "\n",
        "            x = x.to(device, torch.float32)\n",
        "\n",
        "            recon_x, _, _ = model(x, c)\n",
        "\n",
        "            batch_mse = mean_squared_error(x.cpu().numpy(), recon_x.cpu().numpy())\n",
        "            mse_values.append(batch_mse)\n",
        "\n",
        "    avg_mse = sum(mse_values) / len(mse_values)\n",
        "    print(f\"Average MSE: {avg_mse:.4f}\")\n",
        "    return avg_mse\n",
        "\n",
        "def evaluate_vae(model, test_loader, device=\"cuda\"):\n",
        "    \"\"\"Evaluate VAE performance on test data using MSE.\"\"\"\n",
        "    average_mse = calculate_mse(model, test_loader, device=device)\n",
        "    print(f\"Test MSE: {average_mse:.4f}\")\n",
        "    return average_mse"
      ]
    },
    {
      "cell_type": "code",
      "execution_count": null,
      "metadata": {
        "colab": {
          "base_uri": "https://localhost:8080/"
        },
        "id": "O9VM3tFLQOXQ",
        "outputId": "3252c2fa-f87a-4653-c43e-9eadab9799d8"
      },
      "outputs": [
        {
          "output_type": "stream",
          "name": "stderr",
          "text": [
            "<ipython-input-12-614f31a35d83>:52: DeprecationWarning: DataFrameGroupBy.apply operated on the grouping columns. This behavior is deprecated, and in a future version of pandas the grouping columns will be excluded from the operation. Either pass `include_groups=False` to exclude the groupings or explicitly select the grouping columns after groupby to silence this warning.\n",
            "  condition_groups = self.metadata_df.groupby('Unified_Condition').apply(lambda df: df.index.values).to_dict()\n"
          ]
        }
      ],
      "source": [
        "data_loader_class = VAEDataLoader(X_tensor, df_metadata, batch_size=64, random_seed=42)\n",
        "train_loader, test_loader = data_loader_class.get_loaders()\n",
        "train_indices, test_indices = data_loader_class.get_split_indices()\n"
      ]
    },
    {
      "cell_type": "code",
      "execution_count": null,
      "metadata": {
        "colab": {
          "base_uri": "https://localhost:8080/"
        },
        "id": "G5LIHq5QQMD7",
        "outputId": "8644a7e0-b0db-4c32-c2ed-3dadbf9a233d"
      },
      "outputs": [
        {
          "output_type": "stream",
          "name": "stdout",
          "text": [
            "Epoch [1/150], Average Loss: 2761642.1250\n",
            "Epoch [2/150], Average Loss: 2744871.2500\n",
            "Epoch [3/150], Average Loss: 2722195.5625\n",
            "Epoch [4/150], Average Loss: 2695502.7500\n",
            "Epoch [5/150], Average Loss: 2684056.6250\n",
            "Epoch [6/150], Average Loss: 2692125.6250\n",
            "Epoch [7/150], Average Loss: 2658266.1250\n",
            "Epoch [8/150], Average Loss: 2652824.5000\n",
            "Epoch [9/150], Average Loss: 2642003.0625\n",
            "Epoch [10/150], Average Loss: 2625425.9375\n",
            "Epoch [11/150], Average Loss: 2610112.6875\n",
            "Epoch [12/150], Average Loss: 2595851.2500\n",
            "Epoch [13/150], Average Loss: 2584424.6250\n",
            "Epoch [14/150], Average Loss: 2572509.8125\n",
            "Epoch [15/150], Average Loss: 2550232.8750\n",
            "Epoch [16/150], Average Loss: 2533836.5000\n",
            "Epoch [17/150], Average Loss: 2523857.0625\n",
            "Epoch [18/150], Average Loss: 2515415.1250\n",
            "Epoch [19/150], Average Loss: 2490156.5000\n",
            "Epoch [20/150], Average Loss: 2482583.0625\n",
            "Epoch [21/150], Average Loss: 2480303.3750\n",
            "Epoch [22/150], Average Loss: 2453398.7500\n",
            "Epoch [23/150], Average Loss: 2438642.4375\n",
            "Epoch [24/150], Average Loss: 2426887.7500\n",
            "Epoch [25/150], Average Loss: 2418252.3750\n",
            "Epoch [26/150], Average Loss: 2421089.6875\n",
            "Epoch [27/150], Average Loss: 2388783.2500\n",
            "Epoch [28/150], Average Loss: 2370595.1250\n",
            "Epoch [29/150], Average Loss: 2367726.1875\n",
            "Epoch [30/150], Average Loss: 2334438.3750\n",
            "Epoch [31/150], Average Loss: 2320577.3125\n",
            "Epoch [32/150], Average Loss: 2303954.6875\n",
            "Epoch [33/150], Average Loss: 2289600.3125\n",
            "Epoch [34/150], Average Loss: 2266097.5000\n",
            "Epoch [35/150], Average Loss: 2282103.4375\n",
            "Epoch [36/150], Average Loss: 2260920.1250\n",
            "Epoch [37/150], Average Loss: 2241359.3750\n",
            "Epoch [38/150], Average Loss: 2224225.7500\n",
            "Epoch [39/150], Average Loss: 2197670.1250\n",
            "Epoch [40/150], Average Loss: 2215185.5000\n",
            "Epoch [41/150], Average Loss: 2149797.1250\n",
            "Epoch [42/150], Average Loss: 2164268.0000\n",
            "Epoch [43/150], Average Loss: 2124211.2500\n",
            "Epoch [44/150], Average Loss: 2144276.3125\n",
            "Epoch [45/150], Average Loss: 2116653.3750\n",
            "Epoch [46/150], Average Loss: 2094699.7500\n",
            "Epoch [47/150], Average Loss: 2079254.4375\n",
            "Epoch [48/150], Average Loss: 2045555.4375\n",
            "Epoch [49/150], Average Loss: 2067902.7500\n",
            "Epoch [50/150], Average Loss: 2051572.6875\n",
            "Epoch [51/150], Average Loss: 2027414.4375\n",
            "Epoch [52/150], Average Loss: 2008772.3125\n",
            "Epoch [53/150], Average Loss: 2005015.2500\n",
            "Epoch [54/150], Average Loss: 2017486.5000\n",
            "Epoch [55/150], Average Loss: 1945899.8125\n",
            "Epoch [56/150], Average Loss: 1969255.8750\n",
            "Epoch [57/150], Average Loss: 1934717.1875\n",
            "Epoch [58/150], Average Loss: 1942925.5625\n",
            "Epoch [59/150], Average Loss: 1887232.0625\n",
            "Epoch [60/150], Average Loss: 1894103.1875\n",
            "Epoch [61/150], Average Loss: 1862337.6250\n",
            "Epoch [62/150], Average Loss: 1840082.8750\n",
            "Epoch [63/150], Average Loss: 1864343.2500\n",
            "Epoch [64/150], Average Loss: 1827467.3125\n",
            "Epoch [65/150], Average Loss: 1884878.5625\n",
            "Epoch [66/150], Average Loss: 1823283.6875\n",
            "Epoch [67/150], Average Loss: 1827633.1250\n",
            "Epoch [68/150], Average Loss: 1787811.2500\n",
            "Epoch [69/150], Average Loss: 1818148.8125\n",
            "Epoch [70/150], Average Loss: 1762046.9375\n",
            "Epoch [71/150], Average Loss: 1764033.4375\n",
            "Epoch [72/150], Average Loss: 1722283.9375\n",
            "Epoch [73/150], Average Loss: 1721126.3125\n",
            "Epoch [74/150], Average Loss: 1748933.5938\n",
            "Epoch [75/150], Average Loss: 1684769.5000\n",
            "Epoch [76/150], Average Loss: 1698167.1875\n",
            "Epoch [77/150], Average Loss: 1681108.8125\n",
            "Epoch [78/150], Average Loss: 1662334.7500\n",
            "Epoch [79/150], Average Loss: 1681240.8125\n",
            "Epoch [80/150], Average Loss: 1676801.0000\n",
            "Epoch [81/150], Average Loss: 1683857.8750\n",
            "Epoch [82/150], Average Loss: 1634317.6250\n",
            "Epoch [83/150], Average Loss: 1576850.2500\n",
            "Epoch [84/150], Average Loss: 1619661.1875\n",
            "Epoch [85/150], Average Loss: 1633240.7812\n",
            "Epoch [86/150], Average Loss: 1625319.1875\n",
            "Epoch [87/150], Average Loss: 1602361.7500\n",
            "Epoch [88/150], Average Loss: 1595051.4375\n",
            "Early stopping triggered after 88 epochs\n",
            "Epoch [1/150], Average Loss: 2763772.7500\n",
            "Epoch [2/150], Average Loss: 2743681.0000\n",
            "Epoch [3/150], Average Loss: 2726458.0000\n",
            "Epoch [4/150], Average Loss: 2717414.4375\n",
            "Epoch [5/150], Average Loss: 2699708.1875\n",
            "Epoch [6/150], Average Loss: 2676364.2500\n",
            "Epoch [7/150], Average Loss: 2679296.6250\n",
            "Epoch [8/150], Average Loss: 2663917.1875\n",
            "Epoch [9/150], Average Loss: 2638542.8750\n",
            "Epoch [10/150], Average Loss: 2630615.8750\n",
            "Epoch [11/150], Average Loss: 2607581.0625\n",
            "Epoch [12/150], Average Loss: 2587837.8750\n",
            "Epoch [13/150], Average Loss: 2575920.1250\n",
            "Epoch [14/150], Average Loss: 2560585.8750\n",
            "Epoch [15/150], Average Loss: 2551581.4375\n",
            "Epoch [16/150], Average Loss: 2526826.5000\n",
            "Epoch [17/150], Average Loss: 2508943.7500\n",
            "Epoch [18/150], Average Loss: 2488417.3750\n",
            "Epoch [19/150], Average Loss: 2468385.0000\n",
            "Epoch [20/150], Average Loss: 2457874.9375\n",
            "Epoch [21/150], Average Loss: 2426519.5000\n",
            "Epoch [22/150], Average Loss: 2418855.8125\n",
            "Epoch [23/150], Average Loss: 2393881.5000\n",
            "Epoch [24/150], Average Loss: 2389484.5000\n",
            "Epoch [25/150], Average Loss: 2356438.6250\n",
            "Epoch [26/150], Average Loss: 2349201.1875\n",
            "Epoch [27/150], Average Loss: 2334593.1250\n",
            "Epoch [28/150], Average Loss: 2325336.4375\n",
            "Epoch [29/150], Average Loss: 2299740.2500\n",
            "Epoch [30/150], Average Loss: 2274760.0625\n",
            "Epoch [31/150], Average Loss: 2229934.6875\n",
            "Epoch [32/150], Average Loss: 2230508.1250\n",
            "Epoch [33/150], Average Loss: 2252597.4375\n",
            "Epoch [34/150], Average Loss: 2218838.8125\n",
            "Epoch [35/150], Average Loss: 2161868.7500\n",
            "Epoch [36/150], Average Loss: 2162641.3125\n",
            "Epoch [37/150], Average Loss: 2139256.3750\n",
            "Epoch [38/150], Average Loss: 2093806.3750\n",
            "Epoch [39/150], Average Loss: 2115763.5000\n",
            "Epoch [40/150], Average Loss: 2096756.9375\n",
            "Epoch [41/150], Average Loss: 2073813.3125\n",
            "Epoch [42/150], Average Loss: 2045203.6875\n",
            "Epoch [43/150], Average Loss: 2034740.8125\n",
            "Epoch [44/150], Average Loss: 2044204.5000\n",
            "Epoch [45/150], Average Loss: 1989083.3750\n",
            "Epoch [46/150], Average Loss: 1976996.4375\n",
            "Epoch [47/150], Average Loss: 1951735.8750\n",
            "Epoch [48/150], Average Loss: 1927609.5625\n",
            "Epoch [49/150], Average Loss: 1911915.0625\n",
            "Epoch [50/150], Average Loss: 1918904.8750\n",
            "Epoch [51/150], Average Loss: 1872616.7500\n",
            "Epoch [52/150], Average Loss: 1845404.9375\n",
            "Epoch [53/150], Average Loss: 1888788.6250\n",
            "Epoch [54/150], Average Loss: 1821686.7500\n",
            "Epoch [55/150], Average Loss: 1854233.4375\n",
            "Epoch [56/150], Average Loss: 1810051.5625\n",
            "Epoch [57/150], Average Loss: 1824127.0000\n",
            "Epoch [58/150], Average Loss: 1809726.6875\n",
            "Epoch [59/150], Average Loss: 1778569.3125\n",
            "Epoch [60/150], Average Loss: 1789032.5000\n",
            "Epoch [61/150], Average Loss: 1765240.9375\n",
            "Epoch [62/150], Average Loss: 1770824.1875\n",
            "Epoch [63/150], Average Loss: 1699181.5000\n",
            "Epoch [64/150], Average Loss: 1702233.1250\n",
            "Epoch [65/150], Average Loss: 1747434.1562\n",
            "Epoch [66/150], Average Loss: 1660809.8750\n",
            "Epoch [67/150], Average Loss: 1703222.9688\n",
            "Epoch [68/150], Average Loss: 1623553.6250\n",
            "Epoch [69/150], Average Loss: 1614913.7500\n",
            "Epoch [70/150], Average Loss: 1690644.5000\n",
            "Epoch [71/150], Average Loss: 1583846.0000\n",
            "Epoch [72/150], Average Loss: 1648302.7500\n",
            "Epoch [73/150], Average Loss: 1560602.8125\n",
            "Epoch [74/150], Average Loss: 1572385.1250\n",
            "Epoch [75/150], Average Loss: 1571225.0000\n",
            "Epoch [76/150], Average Loss: 1614077.5000\n",
            "Epoch [77/150], Average Loss: 1620817.0625\n",
            "Epoch [78/150], Average Loss: 1539685.8125\n",
            "Epoch [79/150], Average Loss: 1546602.6875\n",
            "Epoch [80/150], Average Loss: 1530007.6250\n",
            "Epoch [81/150], Average Loss: 1521427.5625\n",
            "Epoch [82/150], Average Loss: 1498606.0625\n",
            "Epoch [83/150], Average Loss: 1496357.9375\n",
            "Epoch [84/150], Average Loss: 1567076.6250\n",
            "Epoch [85/150], Average Loss: 1485374.1875\n",
            "Epoch [86/150], Average Loss: 1506190.6875\n",
            "Epoch [87/150], Average Loss: 1462568.2500\n",
            "Epoch [88/150], Average Loss: 1449452.0000\n",
            "Epoch [89/150], Average Loss: 1484907.1562\n",
            "Epoch [90/150], Average Loss: 1485193.0000\n",
            "Epoch [91/150], Average Loss: 1424056.5625\n",
            "Epoch [92/150], Average Loss: 1433864.4375\n",
            "Epoch [93/150], Average Loss: 1484843.3125\n",
            "Epoch [94/150], Average Loss: 1426781.5000\n",
            "Epoch [95/150], Average Loss: 1422021.8750\n",
            "Epoch [96/150], Average Loss: 1417865.8750\n",
            "Epoch [97/150], Average Loss: 1485472.0000\n",
            "Epoch [98/150], Average Loss: 1477318.3125\n",
            "Epoch [99/150], Average Loss: 1482440.5000\n",
            "Epoch [100/150], Average Loss: 1386168.0000\n",
            "Epoch [101/150], Average Loss: 1444986.3125\n",
            "Epoch [102/150], Average Loss: 1441534.1562\n",
            "Epoch [103/150], Average Loss: 1390638.6250\n",
            "Epoch [104/150], Average Loss: 1367726.2500\n",
            "Epoch [105/150], Average Loss: 1368781.4375\n",
            "Epoch [106/150], Average Loss: 1353206.5625\n",
            "Epoch [107/150], Average Loss: 1442376.4688\n",
            "Epoch [108/150], Average Loss: 1356811.3125\n",
            "Epoch [109/150], Average Loss: 1340789.3125\n",
            "Epoch [110/150], Average Loss: 1371472.5625\n",
            "Epoch [111/150], Average Loss: 1366557.5625\n",
            "Epoch [112/150], Average Loss: 1328980.2500\n",
            "Epoch [113/150], Average Loss: 1350283.9375\n",
            "Epoch [114/150], Average Loss: 1424437.8438\n",
            "Epoch [115/150], Average Loss: 1323791.8125\n",
            "Epoch [116/150], Average Loss: 1442645.5312\n",
            "Epoch [117/150], Average Loss: 1412569.1875\n",
            "Epoch [118/150], Average Loss: 1311283.1875\n",
            "Epoch [119/150], Average Loss: 1445895.3125\n",
            "Epoch [120/150], Average Loss: 1312147.8750\n",
            "Epoch [121/150], Average Loss: 1357555.0938\n",
            "Epoch [122/150], Average Loss: 1342138.5000\n",
            "Epoch [123/150], Average Loss: 1365894.6250\n",
            "Early stopping triggered after 123 epochs\n"
          ]
        }
      ],
      "source": [
        "# For VAE\n",
        "vae_model, _, _ = run_vae_training(\n",
        "    df_scaled,\n",
        "    df_metadata=df_metadata,\n",
        "    num_epochs=150,\n",
        "    train_loader=train_loader,\n",
        "    test_loader=test_loader,\n",
        "    is_conditional=False\n",
        ")\n",
        "\n",
        "# For CVAE\n",
        "cvae_model, _, _ = run_vae_training(\n",
        "    df_scaled,\n",
        "    df_metadata=df_metadata,\n",
        "    num_epochs=150,\n",
        "    train_loader=train_loader,\n",
        "    test_loader=test_loader,\n",
        "    is_conditional=True\n",
        ")"
      ]
    },
    {
      "cell_type": "code",
      "execution_count": null,
      "metadata": {
        "colab": {
          "base_uri": "https://localhost:8080/"
        },
        "id": "mSlqe7iVZSln",
        "outputId": "cf2fc1ed-8bc8-4358-aaf5-a642bcaf6364"
      },
      "outputs": [
        {
          "output_type": "stream",
          "name": "stdout",
          "text": [
            "Average MSE: 0.3115\n",
            "Test MSE: 0.3115\n",
            "Average MSE: 0.3664\n",
            "Test MSE: 0.3664\n"
          ]
        }
      ],
      "source": [
        "test_mse_cvae = evaluate_vae(cvae_model, test_loader)\n",
        "test_mse_vae = evaluate_vae(vae_model, test_loader)"
      ]
    },
    {
      "cell_type": "code",
      "execution_count": null,
      "metadata": {
        "id": "KsknYbtdMMi5"
      },
      "outputs": [],
      "source": [
        "def estimate_log_likelihood(model, data_loader, num_samples=100, device=\"cuda\"):\n",
        "    \"\"\"\n",
        "    Estimate the marginal log-likelihood of data under a (C)VAE model using importance sampling.\n",
        "    \"\"\"\n",
        "    model.eval()\n",
        "    total_log_likelihood = 0.0\n",
        "    num_data_points = 0\n",
        "\n",
        "    with torch.no_grad():\n",
        "        for batch in data_loader:\n",
        "            if model.is_conditional:\n",
        "                x, c = batch\n",
        "                c = c.to(device, dtype=torch.float32)\n",
        "            else:\n",
        "                x = batch[0]\n",
        "                c = None\n",
        "\n",
        "            x = x.to(device, dtype=torch.float32)\n",
        "            batch_size = x.size(0)\n",
        "\n",
        "\n",
        "            importance_weights = torch.zeros(batch_size, num_samples, device=device)\n",
        "\n",
        "            for i in range(num_samples):\n",
        "                mu, logvar = model.encode(x, c)\n",
        "                std = torch.exp(0.5 * logvar)\n",
        "\n",
        "                z = mu + std * torch.randn_like(std)\n",
        "                recon_x = model.decode(z, c)\n",
        "\n",
        "                log_p_x_z = -0.5 * F.mse_loss(recon_x, x, reduction='none').sum(dim=1)\n",
        "\n",
        "\n",
        "                log_p_z = -0.5 * torch.sum(z ** 2, dim=1)\n",
        "\n",
        "                log_q_z_x = -0.5 * torch.sum(logvar + (z - mu) ** 2 / torch.exp(logvar), dim=1)\n",
        "\n",
        "                importance_weights[:, i] = (log_p_x_z + log_p_z - log_q_z_x)\n",
        "\n",
        "            max_weights, _ = torch.max(importance_weights, dim=1, keepdim=True)\n",
        "            log_likelihood_per_datapoint = (max_weights.squeeze(1)\n",
        "                                            + torch.log(torch.mean(\n",
        "                                                torch.exp(importance_weights - max_weights), dim=1\n",
        "                                            )))\n",
        "\n",
        "            total_log_likelihood += log_likelihood_per_datapoint.sum().item()\n",
        "            num_data_points += batch_size\n",
        "\n",
        "    average_log_likelihood = total_log_likelihood / num_data_points\n",
        "    return average_log_likelihood\n"
      ]
    },
    {
      "cell_type": "code",
      "execution_count": null,
      "metadata": {
        "colab": {
          "base_uri": "https://localhost:8080/"
        },
        "id": "J-GJ6SC7MeMs",
        "outputId": "d62fecbc-63c8-4c46-f076-3faff0956246"
      },
      "outputs": [
        {
          "output_type": "stream",
          "name": "stdout",
          "text": [
            "Conditional VAE log likelihood: -5172.2112\n",
            "Non-conditional VAE log likelihood: -5818.7903\n"
          ]
        }
      ],
      "source": [
        "# For conditional VAE\n",
        "cond_ll = estimate_log_likelihood(cvae_model, test_loader, num_samples=100)\n",
        "print(f\"Conditional VAE log likelihood: {cond_ll:.4f}\")\n",
        "\n",
        "# For non-conditional VAE\n",
        "noncond_ll = estimate_log_likelihood(vae_model, test_loader, num_samples=100)\n",
        "print(f\"Non-conditional VAE log likelihood: {noncond_ll:.4f}\")"
      ]
    },
    {
      "cell_type": "code",
      "execution_count": null,
      "metadata": {
        "id": "_5saf4KGbTdO"
      },
      "outputs": [],
      "source": [
        "def visualize_latent_space(model, data_loader, metadata_df, model_name=\"model\", device=\"cuda\"):\n",
        "    z_list = []\n",
        "    conditions = []\n",
        "\n",
        "    unique_conditions = metadata_df['Unified_Condition'].unique()\n",
        "    condition_mapping = {i: cond for i, cond in enumerate(unique_conditions)}\n",
        "\n",
        "    model.eval()\n",
        "    with torch.no_grad():\n",
        "        for batch in data_loader:\n",
        "            x, c = batch\n",
        "            x, c = x.to(device), c.to(device)\n",
        "\n",
        "            mu, _ = model.encode(x, c)\n",
        "            z_list.append(mu.cpu().numpy())\n",
        "\n",
        "            batch_indices = torch.argmax(c, dim=1).cpu().numpy()\n",
        "            batch_conditions = [condition_mapping[idx] for idx in batch_indices]\n",
        "            conditions.extend(batch_conditions)\n",
        "\n",
        "    Z = np.vstack(z_list)\n",
        "    conditions = np.array(conditions)\n",
        "\n",
        "    scaler = StandardScaler()\n",
        "    Z_normalized = scaler.fit_transform(Z)\n",
        "\n",
        "    Z_embedded = umap.UMAP(random_state=42).fit_transform(Z_normalized)\n",
        "\n",
        "    unique_conditions = np.unique(conditions)\n",
        "    cmap = plt.cm.get_cmap('tab20', len(unique_conditions))\n",
        "    color_dict = {cond: cmap(i) for i, cond in enumerate(unique_conditions)}\n",
        "\n",
        "    plt.figure(figsize=(12, 8))\n",
        "\n",
        "    for cond in unique_conditions:\n",
        "        mask = conditions == cond\n",
        "        plt.scatter(Z_embedded[mask, 0], Z_embedded[mask, 1],\n",
        "                    color=color_dict[cond], label=cond, alpha=0.7)\n",
        "\n",
        "    plt.title(f'UMAP Visualization of Latent Space ({model_name})')\n",
        "    plt.xlabel('UMAP 1')\n",
        "    plt.ylabel('UMAP 2')\n",
        "    plt.legend(bbox_to_anchor=(1.05, 1), loc='upper left')\n",
        "    plt.tight_layout()\n",
        "\n",
        "    plt.xticks([])\n",
        "    plt.yticks([])\n",
        "\n",
        "    filename = f\"{model_name}_umap.pdf\"\n",
        "    plt.savefig(filename)\n",
        "    print(f\"UMAP plot saved to {filename}\")\n",
        "\n",
        "    plt.show()"
      ]
    },
    {
      "cell_type": "code",
      "source": [
        "visualize_latent_space(cvae_model, test_loader, df_metadata[['Unified_Condition']], model_name='CVAE')"
      ],
      "metadata": {
        "colab": {
          "base_uri": "https://localhost:8080/",
          "height": 892
        },
        "id": "fE7kAWc0SiRK",
        "outputId": "53504ba4-cf15-453a-8a81-64954a39439c"
      },
      "execution_count": null,
      "outputs": [
        {
          "output_type": "stream",
          "name": "stderr",
          "text": [
            "/usr/local/lib/python3.10/dist-packages/umap/umap_.py:1952: UserWarning: n_jobs value 1 overridden to 1 by setting random_state. Use no seed for parallelism.\n",
            "  warn(\n",
            "<ipython-input-21-e71b2c46368d>:30: MatplotlibDeprecationWarning: The get_cmap function was deprecated in Matplotlib 3.7 and will be removed two minor releases later. Use ``matplotlib.colormaps[name]`` or ``matplotlib.colormaps.get_cmap(obj)`` instead.\n",
            "  cmap = plt.cm.get_cmap('tab20', len(unique_conditions))\n"
          ]
        },
        {
          "output_type": "stream",
          "name": "stdout",
          "text": [
            "UMAP plot saved to CVAE_umap.pdf\n"
          ]
        },
        {
          "output_type": "display_data",
          "data": {
            "text/plain": [
              "<Figure size 1200x800 with 1 Axes>"
            ],
            "image/png": "[encoded data removed]"
          },
          "metadata": {}
        }
      ]
    },
    {
      "cell_type": "code",
      "execution_count": null,
      "metadata": {
        "colab": {
          "base_uri": "https://localhost:8080/",
          "height": 892
        },
        "id": "sGQvmHXCbUyW",
        "outputId": "ed6c2d52-252f-487c-d16c-bf4e51c1d660"
      },
      "outputs": [
        {
          "output_type": "stream",
          "name": "stderr",
          "text": [
            "/usr/local/lib/python3.10/dist-packages/umap/umap_.py:1952: UserWarning: n_jobs value 1 overridden to 1 by setting random_state. Use no seed for parallelism.\n",
            "  warn(\n",
            "<ipython-input-21-e71b2c46368d>:30: MatplotlibDeprecationWarning: The get_cmap function was deprecated in Matplotlib 3.7 and will be removed two minor releases later. Use ``matplotlib.colormaps[name]`` or ``matplotlib.colormaps.get_cmap(obj)`` instead.\n",
            "  cmap = plt.cm.get_cmap('tab20', len(unique_conditions))\n"
          ]
        },
        {
          "output_type": "stream",
          "name": "stdout",
          "text": [
            "UMAP plot saved to vae_umap.pdf\n"
          ]
        },
        {
          "output_type": "display_data",
          "data": {
            "text/plain": [
              "<Figure size 1200x800 with 1 Axes>"
            ],
            "image/png": "[encoded data removed]"
          },
          "metadata": {}
        }
      ],
      "source": [
        "visualize_latent_space(vae_model, test_loader, df_metadata[['Unified_Condition']],model_name='vae')"
      ]
    },
    {
      "cell_type": "code",
      "source": [
        "def analyze_vae_by_condition(model, data_loader, metadata_df, device=\"cuda\", top_n=5, is_conditional=False):\n",
        "    \"\"\"\n",
        "    Analyze VAE performance for each condition with optional conditional handling.\n",
        "\n",
        "    Parameters:\n",
        "        model: The VAE or CVAE model to analyze.\n",
        "        data_loader: DataLoader containing test data.\n",
        "        metadata_df: DataFrame with metadata, including 'Unified_Condition'.\n",
        "        device: Device to run on ('cuda' or 'cpu').\n",
        "        top_n: Number of top conditions to display.\n",
        "        is_conditional: Whether the model is conditional (e.g., CVAE).\n",
        "\n",
        "    Returns:\n",
        "        metrics_df: DataFrame with performance metrics by condition.\n",
        "    \"\"\"\n",
        "    model.eval()\n",
        "    condition_names = pd.get_dummies(metadata_df['Unified_Condition']).columns.tolist()\n",
        "    condition_data = {cond: {'actual': [], 'predicted': []} for cond in condition_names}\n",
        "\n",
        "    with torch.no_grad():\n",
        "        for batch in data_loader:\n",
        "            if is_conditional:\n",
        "                x, c = batch\n",
        "                x, c = x.to(device, torch.float32), c.to(device, torch.float32)\n",
        "                recon_x, _, _ = model(x, c)\n",
        "            else:\n",
        "                x, c = batch\n",
        "                x = x.to(device, torch.float32)\n",
        "                recon_x, _, _ = model(x)\n",
        "\n",
        "            x_np = x.cpu().numpy()\n",
        "            recon_x_np = recon_x.cpu().numpy()\n",
        "            c_np = c.cpu().numpy()\n",
        "\n",
        "            for i in range(len(x)):\n",
        "                condition_idx = np.argmax(c_np[i])\n",
        "                condition = condition_names[condition_idx]\n",
        "                condition_data[condition]['actual'].append(x_np[i])\n",
        "                condition_data[condition]['predicted'].append(recon_x_np[i])\n",
        "\n",
        "    condition_metrics = {}\n",
        "    for condition in condition_names:\n",
        "        if len(condition_data[condition]['actual']) > 0:\n",
        "            actual = np.vstack(condition_data[condition]['actual'])  # shape: (n_samples, n_genes)\n",
        "            predicted = np.vstack(condition_data[condition]['predicted'])  # shape: (n_samples, n_genes)\n",
        "\n",
        "            mse = np.mean((actual - predicted) ** 2)\n",
        "            pearson_corrs = []\n",
        "            spearman_corrs = []\n",
        "            n_constant_samples = 0\n",
        "            n_valid_samples = 0\n",
        "\n",
        "            # Compute correlations on a per-sample basis across genes\n",
        "            for s in range(actual.shape[0]):\n",
        "                actual_sample = actual[s, :]\n",
        "                pred_sample = predicted[s, :]\n",
        "\n",
        "                # Check variation within this sample\n",
        "                if np.std(actual_sample) > 0 and np.std(pred_sample) > 0:\n",
        "                    p_corr = pearsonr(actual_sample, pred_sample)[0]\n",
        "                    s_corr = spearmanr(actual_sample, pred_sample)[0]\n",
        "\n",
        "                    if not np.isnan(p_corr) and not np.isnan(s_corr):\n",
        "                        pearson_corrs.append(p_corr)\n",
        "                        spearman_corrs.append(s_corr)\n",
        "                        n_valid_samples += 1\n",
        "                else:\n",
        "                    n_constant_samples += 1\n",
        "\n",
        "            condition_metrics[condition] = {\n",
        "                'n_samples': actual.shape[0],\n",
        "                'n_genes': actual.shape[1],\n",
        "                'n_valid_samples': n_valid_samples,\n",
        "                'n_constant_samples': n_constant_samples,\n",
        "                'mse': mse,\n",
        "                'mean_pearson': np.mean(pearson_corrs) if pearson_corrs else np.nan,\n",
        "                'mean_spearman': np.mean(spearman_corrs) if spearman_corrs else np.nan,\n",
        "                'pct_valid_samples': (n_valid_samples / actual.shape[0]) * 100 if actual.shape[0] > 0 else 0\n",
        "            }\n",
        "\n",
        "    metrics_df = pd.DataFrame.from_dict(condition_metrics, orient='index')\n",
        "    metrics_df = metrics_df.sort_values('n_samples', ascending=False)\n",
        "\n",
        "    top_conditions = metrics_df.head(top_n)\n",
        "\n",
        "    fig, axes = plt.subplots(2, 1, figsize=(15, 10))\n",
        "\n",
        "    axes[0].bar(range(len(top_conditions)), top_conditions['mse'])\n",
        "    axes[0].set_xticks(range(len(top_conditions)))\n",
        "    axes[0].set_xticklabels(top_conditions.index, rotation=45, ha='right')\n",
        "    axes[0].set_title('MSE by Condition')\n",
        "    axes[0].set_ylabel('MSE')\n",
        "\n",
        "    width = 0.35\n",
        "    x = np.arange(len(top_conditions))\n",
        "    valid_mask = ~top_conditions['mean_pearson'].isna()\n",
        "\n",
        "    if valid_mask.any():\n",
        "        axes[1].bar(x[valid_mask] - width/2, top_conditions[valid_mask]['mean_pearson'], width, label='Pearson')\n",
        "        axes[1].bar(x[valid_mask] + width/2, top_conditions[valid_mask]['mean_spearman'], width, label='Spearman')\n",
        "        axes[1].set_xticks(x)\n",
        "        axes[1].set_xticklabels(top_conditions.index, rotation=45, ha='right')\n",
        "        axes[1].set_title('Mean Correlations by Condition (Within Sample)')\n",
        "        axes[1].set_ylabel('Correlation')\n",
        "        axes[1].legend()\n",
        "\n",
        "    plt.tight_layout()\n",
        "    plt.show()\n",
        "\n",
        "    print(\"\\nPerformance metrics:\")\n",
        "    print(top_conditions[['mse', 'mean_pearson', 'mean_spearman']].round(4))\n",
        "\n",
        "    return metrics_df\n"
      ],
      "metadata": {
        "id": "Vhx71zBU0Swb"
      },
      "execution_count": null,
      "outputs": []
    },
    {
      "cell_type": "code",
      "source": [
        "metrics_unconditional = analyze_vae_by_condition(\n",
        "    model=vae_model,\n",
        "    data_loader=test_loader,\n",
        "    metadata_df=df_metadata[['Unified_Condition']],\n",
        "    device=\"cuda\",\n",
        "    top_n=8,\n",
        "    is_conditional=False\n",
        ")\n"
      ],
      "metadata": {
        "colab": {
          "base_uri": "https://localhost:8080/",
          "height": 1000
        },
        "id": "swN4m_xA0Tpd",
        "outputId": "274fb6f8-3bf9-446a-b098-5c7763b5b155"
      },
      "execution_count": null,
      "outputs": [
        {
          "output_type": "display_data",
          "data": {
            "text/plain": [
              "<Figure size 1500x1000 with 2 Axes>"
            ],
            "image/png": "[encoded data removed]"
          },
          "metadata": {}
        },
        {
          "output_type": "stream",
          "name": "stdout",
          "text": [
            "\n",
            "Performance metrics:\n",
            "            mse  mean_pearson  mean_spearman\n",
            "Salt     0.2374        0.3936         0.3599\n",
            "Cadmium  0.0552        0.5879         0.6094\n",
            "Cold     0.2107        0.4715         0.4902\n",
            "Drought  0.0446        0.6405         0.6516\n",
            "Flood    1.4156        0.4850         0.5357\n",
            "Normal   0.3164        0.4635         0.4159\n"
          ]
        }
      ]
    },
    {
      "cell_type": "code",
      "source": [
        "metrics_conditional = analyze_vae_by_condition(\n",
        "    model=cvae_model,\n",
        "    data_loader=test_loader,\n",
        "    metadata_df=df_metadata[['Unified_Condition']],\n",
        "    device=\"cuda\",\n",
        "    top_n=8,\n",
        "    is_conditional=True\n",
        ")\n"
      ],
      "metadata": {
        "colab": {
          "base_uri": "https://localhost:8080/",
          "height": 1000
        },
        "id": "sIzx-YIO0Vdv",
        "outputId": "4dfd1d51-1a5c-45cf-e4c4-efdc08dc0c31"
      },
      "execution_count": null,
      "outputs": [
        {
          "output_type": "display_data",
          "data": {
            "text/plain": [
              "<Figure size 1500x1000 with 2 Axes>"
            ],
            "image/png": "[encoded data removed]"
          },
          "metadata": {}
        },
        {
          "output_type": "stream",
          "name": "stdout",
          "text": [
            "\n",
            "Performance metrics:\n",
            "            mse  mean_pearson  mean_spearman\n",
            "Salt     0.2007        0.5351         0.5228\n",
            "Cadmium  0.0313        0.7406         0.7681\n",
            "Cold     0.1833        0.5532         0.5535\n",
            "Drought  0.0188        0.8213         0.8291\n",
            "Flood    1.1907        0.6238         0.6934\n",
            "Normal   0.2950        0.5280         0.4590\n"
          ]
        }
      ]
    },
    {
      "cell_type": "code",
      "source": [],
      "metadata": {
        "id": "ieI0i9tp0ZJC"
      },
      "execution_count": null,
      "outputs": []
    }
  ],
  "metadata": {
    "accelerator": "GPU",
    "colab": {
      "gpuType": "T4",
      "provenance": [],
      "include_colab_link": true
    },
    "kernelspec": {
      "display_name": "Python 3",
      "name": "python3"
    },
    "language_info": {
      "name": "python"
    }
  },
  "nbformat": 4,
  "nbformat_minor": 0
}